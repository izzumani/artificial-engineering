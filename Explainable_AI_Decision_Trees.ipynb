{
 "cells": [
  {
   "cell_type": "code",
   "execution_count": 96,
   "metadata": {},
   "outputs": [],
   "source": [
    "import numpy as np # to analyze the structure of the decision tree\n",
    "import pandas as pd # for data manipulation\n",
    "import matplotlib.pyplot as plt # to plot the decision tree and create an image\n",
    "import pickle  # to save and load the decision tree estimator\n",
    "from sklearn.tree import DecisionTreeClassifier, plot_tree # create the decision tree classifier and explore its structure\n",
    "from sklearn.model_selection import train_test_split # to manage the training and testing data\n",
    "from sklearn import metrics # metrics module and is used to measure the accuracy of the training process\n",
    "import os # for the file path management of the dataset\n"
   ]
  },
  {
   "cell_type": "code",
   "execution_count": 97,
   "metadata": {},
   "outputs": [],
   "source": [
    "# @title Importing data <br>\n",
    "# Set repository to “github”(default) to read the data\n",
    "# from GitHub <br>\n",
    "# Set repository to “google” to read the data\n",
    "# from Google {display-mode: “form”}\n",
    "ip = './files/autopilot_data.csv'\n"
   ]
  },
  {
   "cell_type": "code",
   "execution_count": null,
   "metadata": {},
   "outputs": [],
   "source": [
    "col_names = ['f1', 'f2', 'f3', 'f4', 'label']\n",
    "# load dataset\n",
    "pima = pd.read_csv(ip, header=None, names=col_names)\n",
    "pima.head()"
   ]
  },
  {
   "cell_type": "code",
   "execution_count": null,
   "metadata": {},
   "outputs": [],
   "source": [
    "feature_col = ['f1', 'f2', 'f3', 'f4']\n",
    "X = pima[feature_col] # Features\n",
    "y = pima.label\n",
    "print(X)\n",
    "print(y)"
   ]
  },
  {
   "cell_type": "code",
   "execution_count": 100,
   "metadata": {},
   "outputs": [],
   "source": [
    "X_train, X_test, y_train, y_test = train_test_split(X,y,test_size=0.3, random_state=1) # 70% training and 30% test\n"
   ]
  },
  {
   "cell_type": "code",
   "execution_count": null,
   "metadata": {},
   "outputs": [],
   "source": [
    "# Create decision tree classifier object\n",
    "# Default approach\n",
    "estimator = DecisionTreeClassifier()\n",
    "# estimator = DecisionTreeClassifier(max_depth=2, max_leaf_nodes=3,min_samples_leaf=100)\n",
    "print(estimator)"
   ]
  },
  {
   "cell_type": "code",
   "execution_count": 158,
   "metadata": {},
   "outputs": [],
   "source": [
    "estimator = estimator.fit(X_train,y_train)\n",
    "# Predict the response for the test dataset\n",
    "# print(\"prediction\")\n",
    "# y_pred = estimator.predict(X_test)\n",
    "# print(y_pred)"
   ]
  },
  {
   "cell_type": "code",
   "execution_count": null,
   "metadata": {},
   "outputs": [],
   "source": [
    "# Model accuracy\n",
    "print(\"Accuracy:\", metrics.accuracy_score(y_test, y_pred))"
   ]
  },
  {
   "cell_type": "code",
   "execution_count": 160,
   "metadata": {},
   "outputs": [],
   "source": [
    "# save model\n",
    "pickle.dump(estimator, open(\"./files/dt.sav\", 'wb'))"
   ]
  },
  {
   "cell_type": "code",
   "execution_count": null,
   "metadata": {},
   "outputs": [],
   "source": [
    "from matplotlib.pyplot import figure\n",
    "plt.figure(dpi=400, edgecolor=\"r\", figsize=(10, 10))"
   ]
  },
  {
   "cell_type": "code",
   "execution_count": 162,
   "metadata": {},
   "outputs": [],
   "source": [
    "F = [\"f1\", \"f2\" \"f3\", \"f4\",\"label\"]\n",
    "C = [\"Right\", \"Left\"]\n",
    "\n"
   ]
  },
  {
   "cell_type": "code",
   "execution_count": null,
   "metadata": {},
   "outputs": [],
   "source": [
    "plot_tree(estimator, filled=True, feature_names=F, rounded=True,precision=2, fontsize=3, proportion=True, max_depth=2,class_names=C)\n",
    "# plot_tree(estimator, filled=True, feature_names=F)"
   ]
  },
  {
   "cell_type": "code",
   "execution_count": null,
   "metadata": {},
   "outputs": [],
   "source": [
    "plt.savefig('./files/dt.png')"
   ]
  },
  {
   "cell_type": "code",
   "execution_count": 165,
   "metadata": {},
   "outputs": [],
   "source": [
    "plt.show()"
   ]
  },
  {
   "cell_type": "code",
   "execution_count": null,
   "metadata": {},
   "outputs": [],
   "source": [
    "# estimator contains a tree_ object that stores the attributes of the structure of a decision tree in arrays\n",
    "estimator.tree_"
   ]
  },
  {
   "cell_type": "code",
   "execution_count": null,
   "metadata": {},
   "outputs": [],
   "source": [
    "# count the number of nodes\n",
    "n_nodes = estimator.tree_.node_count\n",
    "n_nodes"
   ]
  },
  {
   "cell_type": "code",
   "execution_count": null,
   "metadata": {},
   "outputs": [],
   "source": [
    "# obtain the ID of the left child of a node\n",
    "children_left = estimator.tree_.children_left\n",
    "children_left"
   ]
  },
  {
   "cell_type": "code",
   "execution_count": null,
   "metadata": {},
   "outputs": [],
   "source": [
    "# obtain the ID of the right child of a node\n",
    "children_right = estimator.tree_.children_right\n",
    "children_right"
   ]
  },
  {
   "cell_type": "code",
   "execution_count": null,
   "metadata": {},
   "outputs": [],
   "source": [
    "# feature used to split the node into the left and right child nodes\n",
    "feature = estimator.tree_.feature\n",
    "feature"
   ]
  },
  {
   "cell_type": "code",
   "execution_count": null,
   "metadata": {},
   "outputs": [],
   "source": [
    "# A threshold attribute will show the value at the node\n",
    "threshold = estimator.tree_.threshold\n",
    "threshold"
   ]
  },
  {
   "cell_type": "code",
   "execution_count": 172,
   "metadata": {},
   "outputs": [],
   "source": [
    "# parsing the tree structure\n",
    "node_depth = np.zeros(shape=n_nodes, dtype=np.int64)\n",
    "is_leaves = np.zeros(shape=n_nodes, dtype=bool)\n",
    "stack = [(0, -1)] # the seed is the root node id and its parent depth\n",
    "while len(stack) > 0:\n",
    "    node_id, parent_depth = stack.pop()\n",
    "    node_depth[node_id] = parent_depth + 1\n",
    "    # Exploring the test mode\n",
    "    if (children_left[node_id] != children_right[node_id]):\n",
    "        stack.append((children_left[node_id], parent_depth + 1))\n",
    "        stack.append((children_right[node_id], parent_depth + 1))\n",
    "    else:\n",
    "        is_leaves[node_id] = True"
   ]
  },
  {
   "cell_type": "code",
   "execution_count": null,
   "metadata": {},
   "outputs": [],
   "source": [
    "print(\"The binary tree structure has %s nodes and has the following tree structure:\"% n_nodes)\n",
    "for i in range(n_nodes):\n",
    "    if is_leaves[i]:\n",
    "        print(\"%snode=%s leaf node.\" % (node_depth[i] * \"\\t\", i))\n",
    "    else:\n",
    "        print(\"%snode=%s test node: go to node %s \"\\\n",
    "              \"if X[:, %s] <= %s else to node %s.\"\\\n",
    "              % (node_depth[i] * \"\\t\", i,\\\n",
    "                 children_left[i],\\\n",
    "                 feature[i],\\\n",
    "                 threshold[i],\\\n",
    "                 children_right[i],))\n",
    "                 "
   ]
  },
  {
   "cell_type": "code",
   "execution_count": null,
   "metadata": {},
   "outputs": [],
   "source": [
    "estimator = DecisionTreeClassifier(max_depth=2, max_leaf_nodes=3,min_samples_leaf=100)\n",
    "estimator"
   ]
  }
 ],
 "metadata": {
  "kernelspec": {
   "display_name": "venv",
   "language": "python",
   "name": "python3"
  },
  "language_info": {
   "codemirror_mode": {
    "name": "ipython",
    "version": 3
   },
   "file_extension": ".py",
   "mimetype": "text/x-python",
   "name": "python",
   "nbconvert_exporter": "python",
   "pygments_lexer": "ipython3",
   "version": "3.9.0"
  }
 },
 "nbformat": 4,
 "nbformat_minor": 2
}
