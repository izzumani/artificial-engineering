{
 "cells": [
  {
   "cell_type": "code",
   "execution_count": 37,
   "metadata": {},
   "outputs": [],
   "source": [
    "from logpy import run, var, fact\n",
    "import logpy.assoccomm as la"
   ]
  },
  {
   "cell_type": "code",
   "execution_count": 38,
   "metadata": {},
   "outputs": [],
   "source": [
    "# define mathematical operations\n",
    "add = 'addition'\n",
    "mul = 'multiplication'\n"
   ]
  },
  {
   "cell_type": "code",
   "execution_count": 39,
   "metadata": {},
   "outputs": [],
   "source": [
    "# Both addition and multiplication are commutative operations(meaning the operands can be flipped without changing the result)\n",
    "#Declare that these operations are commutatitve\n",
    "#using the facts system\n",
    "fact(la.commutative,mul)\n",
    "fact(la.commutative,add)\n",
    "fact(la.associative,mul)\n",
    "fact(la.associative,add)"
   ]
  },
  {
   "cell_type": "code",
   "execution_count": 40,
   "metadata": {},
   "outputs": [],
   "source": [
    "# Define some variables\n",
    "a,b,c = var('a'), var('b'), var('c')"
   ]
  },
  {
   "cell_type": "code",
   "execution_count": 41,
   "metadata": {},
   "outputs": [],
   "source": [
    "expression_orig = 3 * (-2) + (1 + 2 * 3) * (-1)"
   ]
  },
  {
   "cell_type": "code",
   "execution_count": 42,
   "metadata": {},
   "outputs": [],
   "source": [
    "expression_origin = (add,(mul,3,-2),(mul,(add,1,(mul,2,3)),-1))\n",
    "expression1 =(add,(mul,(add,1,(mul,2,a)),b),(mul,3,c))\n",
    "expression2 =(add,(mul,c,3),(mul,b,(add,(mul,2,a),1)))\n",
    "expression3= (add,(add,(mul,(mul,2,a),b),b),(mul,3,c))"
   ]
  },
  {
   "cell_type": "code",
   "execution_count": null,
   "metadata": {},
   "outputs": [],
   "source": [
    "print(run(0,(a,b,c),la.eq_assoccomm(expression1,expression_orig)))\n",
    "print(run(0,(a,b,c),la.eq_assoccomm(expression2,expression_orig)))\n",
    "print(run(0,(a,b,c),la.eq_assoccomm(expression3,expression_orig)))"
   ]
  },
  {
   "cell_type": "code",
   "execution_count": 51,
   "metadata": {},
   "outputs": [],
   "source": [
    "import itertools as it\n",
    "import logpy.core as lc\n",
    "from kanren import membero\n",
    "from sympy.ntheory.generate import prime, isprime"
   ]
  },
  {
   "cell_type": "code",
   "execution_count": 48,
   "metadata": {},
   "outputs": [],
   "source": [
    "# Check if the elements of x prime\n",
    "\n",
    "def check_prime(x):\n",
    "    if lc.isvar(x):\n",
    "        return lc.condeseq([(lc.eq,x,p)] for p in map(prime,it.count(1)))\n",
    "    else:\n",
    "        return lc.success if isprime(x) else lc.fail"
   ]
  },
  {
   "cell_type": "code",
   "execution_count": 49,
   "metadata": {},
   "outputs": [],
   "source": [
    "# Declare the variable\n",
    "x = lc.var()"
   ]
  },
  {
   "cell_type": "code",
   "execution_count": null,
   "metadata": {},
   "outputs": [],
   "source": [
    "# Check if an element in the list is a prime number\n",
    "list_nums = (23,4,27,17,13,10,21,29,3,32,11,19)\n",
    "print('\\nList of primes in the list:')\n",
    "print(set(lc.run(0,x,(membero,x,list_nums),(check_prime,x))))"
   ]
  },
  {
   "cell_type": "code",
   "execution_count": 157,
   "metadata": {},
   "outputs": [],
   "source": [
    "import json\n",
    "from logpy import Relation, facts, run, conde, var, eq"
   ]
  },
  {
   "cell_type": "code",
   "execution_count": null,
   "metadata": {},
   "outputs": [],
   "source": [
    "with open('./files/familytree.json')as f:\n",
    "    family_tree = json.loads(f.read())\n",
    "family_tree"
   ]
  },
  {
   "cell_type": "code",
   "execution_count": 159,
   "metadata": {},
   "outputs": [],
   "source": [
    "father = Relation()\n",
    "mother =Relation()"
   ]
  },
  {
   "cell_type": "code",
   "execution_count": 160,
   "metadata": {},
   "outputs": [],
   "source": [
    "for item in family_tree['father']:\n",
    "    facts(father,(list(item.keys())[0],list(item.values())[0]))"
   ]
  },
  {
   "cell_type": "code",
   "execution_count": 161,
   "metadata": {},
   "outputs": [],
   "source": [
    "for item in family_tree['mother']:\n",
    "    facts(mother,(list(item.keys())[0],list(item.values())[0]))"
   ]
  },
  {
   "cell_type": "code",
   "execution_count": 162,
   "metadata": {},
   "outputs": [],
   "source": [
    "# Check if 'x' is the parent of 'y'\n",
    "\n",
    "def parent(x,y):\n",
    "    return conde([father(x,y)], [mother(x,y)])"
   ]
  },
  {
   "cell_type": "code",
   "execution_count": 163,
   "metadata": {},
   "outputs": [],
   "source": [
    "# Check if 'x' is the grandparent of 'y'\n",
    "def grandparent(x,y):\n",
    "    temp =var()\n",
    "    return conde((parent(x,temp),parent(temp,y)))"
   ]
  },
  {
   "cell_type": "code",
   "execution_count": 164,
   "metadata": {},
   "outputs": [],
   "source": [
    "#Check for sibling relationship between a and b\n",
    "def sibling(x,y):\n",
    "    temp = var()\n",
    "    return conde((parent(temp,x),parent(temp,y)))"
   ]
  },
  {
   "cell_type": "code",
   "execution_count": 165,
   "metadata": {},
   "outputs": [],
   "source": [
    "# Check if x is y's uncle\n",
    "def uncle(x,y):\n",
    "    temp = var()\n",
    "    return conde((father(temp,x),grandparent(temp,y)))"
   ]
  },
  {
   "cell_type": "code",
   "execution_count": 166,
   "metadata": {},
   "outputs": [],
   "source": [
    "x = var()"
   ]
  },
  {
   "cell_type": "code",
   "execution_count": null,
   "metadata": {},
   "outputs": [],
   "source": [
    "# John's children\n",
    "name = 'John'\n",
    "output = run (0,x,father(name,x))\n",
    "print(f\"\\nList of {name}'s children:\")\n",
    "for item in output:\n",
    "    print(item)"
   ]
  },
  {
   "cell_type": "code",
   "execution_count": null,
   "metadata": {},
   "outputs": [],
   "source": [
    "# William's mother\n",
    "name = \"William\"\n",
    "\n",
    "output = run(0,x, mother(x,name))[0]\n",
    "print(f\"\\n {name}'s mother:\\n {output}\")"
   ]
  },
  {
   "cell_type": "code",
   "execution_count": null,
   "metadata": {},
   "outputs": [],
   "source": [
    "# Adam's parents name = Adam\n",
    "\n",
    "output = run(0, x, parent(x, name))\n",
    "print(f\"\\nList of {name}'s parents:\")\n",
    "for item in output:\n",
    "    print(item)"
   ]
  },
  {
   "cell_type": "code",
   "execution_count": null,
   "metadata": {},
   "outputs": [],
   "source": [
    "# Wayne's parents name = 'Wayne'\n",
    "output = run(0, x, grandparent(x, name))\n",
    "print(f\"\\nList of {name}'s grandparents:\")\n",
    "for item in output:\n",
    "    print(item)"
   ]
  },
  {
   "cell_type": "code",
   "execution_count": null,
   "metadata": {},
   "outputs": [],
   "source": [
    "# Megan's grandparents\n",
    "name = 'Megan'\n",
    "output = run(0, x, grandparent(x, name))\n",
    "print(f\"\\nList of {name}'s grandchildren:\")\n",
    "for item in output:\n",
    "    print(item)"
   ]
  },
  {
   "cell_type": "code",
   "execution_count": null,
   "metadata": {},
   "outputs": [],
   "source": [
    "# David's siblings\n",
    "name = 'David'\n",
    "output = run(0, x, sibling(x, name))\n",
    "siblings = [x for x in output if x!= name]\n",
    "print(f\"\\nList of {name}'s siblings:\")\n",
    "for item in siblings:\n",
    "    print(item)"
   ]
  },
  {
   "cell_type": "code",
   "execution_count": null,
   "metadata": {},
   "outputs": [],
   "source": [
    "# Tiffany's uncles\n",
    "name = 'Tiffany'\n",
    "name_father = run(0,x,father(x,name))[0]\n",
    "output = run(0, x, uncle(x,name))\n",
    "output = [x for x in output if x != name_father]\n",
    "print(f\"\\nList of {name}'s uncles:\")\n",
    "for item in output:\n",
    "    print(item)"
   ]
  },
  {
   "cell_type": "code",
   "execution_count": null,
   "metadata": {},
   "outputs": [],
   "source": [
    "# All spouses\n",
    "a,b,c = var(), var(), var()\n",
    "output = run(0,(a,b), (father,a,c),(mother,b,c))\n",
    "print(\"\\nList of all spouses:\")\n",
    "for item in output:\n",
    "    print(f\"Husband: {item[0]}, <==> wife: {item[1]}\")"
   ]
  },
  {
   "cell_type": "code",
   "execution_count": 247,
   "metadata": {},
   "outputs": [],
   "source": [
    "from logpy import run, fact, eq, Relation,var\n",
    "adjacent = Relation()\n",
    "coastal = Relation()\n"
   ]
  },
  {
   "cell_type": "code",
   "execution_count": 248,
   "metadata": {},
   "outputs": [],
   "source": [
    "file_coastal = './files/coastal-states.txt'\n",
    "file_adjacent = './files/adjacent-states.txt'\n"
   ]
  },
  {
   "cell_type": "code",
   "execution_count": 249,
   "metadata": {},
   "outputs": [],
   "source": [
    "# Read the file containing the coastal states\n",
    "with open (file_coastal, 'r') as f:\n",
    "    line = f.read()\n",
    "    coastal_states = line.split(',')\n",
    "# Add the info to the fact base\n",
    "for state in coastal_states:\n",
    "    fact(coastal,state)"
   ]
  },
  {
   "cell_type": "code",
   "execution_count": null,
   "metadata": {},
   "outputs": [],
   "source": [
    "# Read the files containing the adjacent states\n",
    "with open (file_adjacent, 'r') as f:\n",
    "    adjlist = [line.strip().split(',') for line in f if line and line[0].isalpha()]\n",
    "adjlist"
   ]
  },
  {
   "cell_type": "code",
   "execution_count": 251,
   "metadata": {},
   "outputs": [],
   "source": [
    "# Add the info to the fact base\n",
    "for L in adjlist:\n",
    "    head, tail = L[0], L[1:]\n",
    "    for state in tail:\n",
    "        fact(adjacent,head,state)\n",
    "        "
   ]
  },
  {
   "cell_type": "code",
   "execution_count": 252,
   "metadata": {},
   "outputs": [],
   "source": [
    "# Initialize the variables\n",
    "x =var()\n",
    "y = var()"
   ]
  },
  {
   "cell_type": "code",
   "execution_count": null,
   "metadata": {},
   "outputs": [],
   "source": [
    "# Is Nevada to Louisiana?\n",
    "output = run (0,x, adjacent('NV','LA'))\n",
    "print('\\n Is Nevada adjacent to Lousina?:')\n",
    "print(\"Yes\" if len(output) else \"No\")"
   ]
  },
  {
   "cell_type": "code",
   "execution_count": null,
   "metadata": {},
   "outputs": [],
   "source": [
    "# States adjacent to Oregon\n",
    "output = run(0, x, adjacent('OR', x))\n",
    "print('\\nList of states adjacent to Oregon:')\n",
    "for item in output:\n",
    "    print(item)"
   ]
  },
  {
   "cell_type": "code",
   "execution_count": null,
   "metadata": {},
   "outputs": [],
   "source": [
    "# States adjacent to Mississippi that are coastal\n",
    "output = run(0, x, adjacent('MS', x), coastal(x))\n",
    "print('\\nList of coastal states adjacent to Mississippi:')\n",
    "for item in output:\n",
    "    print(item)"
   ]
  },
  {
   "cell_type": "code",
   "execution_count": null,
   "metadata": {},
   "outputs": [],
   "source": [
    "# List of ‘n’ states that border a coastal state\n",
    "n = 7\n",
    "output = run(n, x, coastal(y), adjacent(x, y))\n",
    "print('\\nList of ‘ + str(n) + ‘ states that border a coastal state:')\n",
    "for item in output:\n",
    "    print(item)"
   ]
  },
  {
   "cell_type": "code",
   "execution_count": null,
   "metadata": {},
   "outputs": [],
   "source": [
    "# List of states that adjacent to the two given states\n",
    "output = run(0, x, adjacent('AK', x), adjacent('KY', x))\n",
    "print('\\nList of states that are adjacent to Arkansas and Kentucky:')\n",
    "for item in output:\n",
    "    print(item)"
   ]
  },
  {
   "cell_type": "code",
   "execution_count": 270,
   "metadata": {},
   "outputs": [],
   "source": [
    "from logpy import *\n",
    "from logpy.core import lall"
   ]
  },
  {
   "cell_type": "code",
   "execution_count": 271,
   "metadata": {},
   "outputs": [],
   "source": [
    "# Declare the variable people\n",
    "people = var()"
   ]
  },
  {
   "cell_type": "code",
   "execution_count": 272,
   "metadata": {},
   "outputs": [],
   "source": [
    "# Define the rules\n",
    "rules = lall(\\\n",
    "    # There are 4 people\n",
    "    (eq, (var(), var(), var(), var()), people),\n",
    "    # Steve’s car is blue\n",
    "    (membero, ('Steve', var(), 'blue', var()), people),\n",
    "    # Person who has a cat lives in Canada\n",
    "    (membero, (var(), 'cat', var(), 'Canada'), people),\n",
    "    # Matthew lives in USA\n",
    "    (membero, ('Matthew', var(), var(), 'USA'), people),\n",
    "    # Jack has a cat\n",
    "    (membero, ('Jack', 'cat', var(), var()), people),\n",
    "    # Alfred lives in Australia\n",
    "    (membero, ('Alfred', var(), var(), 'Australia'), people),\n",
    "    # Person who owns the dog lives in France\n",
    "    (membero, (var(), 'dog', var(), 'France'), people),\n",
    "    # Who has a rabbit?\n",
    "    (membero, (var(), 'rabbit', var(), var()), people)\n",
    " \n",
    ")\n",
    "\n"
   ]
  },
  {
   "cell_type": "code",
   "execution_count": 273,
   "metadata": {},
   "outputs": [],
   "source": [
    "# Run the solver\n",
    "solutions = run(0, people, rules)"
   ]
  },
  {
   "cell_type": "code",
   "execution_count": 274,
   "metadata": {},
   "outputs": [],
   "source": [
    "# Extract the output\n",
    "output = [house for house in solutions[0] if 'rabbit' in house][0][0]"
   ]
  },
  {
   "cell_type": "code",
   "execution_count": null,
   "metadata": {},
   "outputs": [],
   "source": [
    "# Print the output\n",
    "print('\\n' + output + 'is the owner of the rabbit')\n",
    "print('\\nHere are all the details:')\n",
    "attribs = ['Name', 'Pet', 'Color', 'Country']\n",
    "print('\\n' + '\\t\\t'.join(attribs))\n",
    "print('=' * 57)\n",
    "for item in solutions[0]:\n",
    "    print('')\n",
    "    print('\\t\\t'.join([str(x) for x in item]))\n"
   ]
  }
 ],
 "metadata": {
  "kernelspec": {
   "display_name": "venv",
   "language": "python",
   "name": "python3"
  },
  "language_info": {
   "codemirror_mode": {
    "name": "ipython",
    "version": 3
   },
   "file_extension": ".py",
   "mimetype": "text/x-python",
   "name": "python",
   "nbconvert_exporter": "python",
   "pygments_lexer": "ipython3",
   "version": "3.9.0"
  }
 },
 "nbformat": 4,
 "nbformat_minor": 2
}
