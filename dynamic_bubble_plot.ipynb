{
 "cells": [
  {
   "cell_type": "code",
   "execution_count": 2,
   "metadata": {},
   "outputs": [],
   "source": [
    "import numpy as np\n",
    "import matplotlib.pyplot as plt\n",
    "from matplotlib.animation import FuncAnimation"
   ]
  },
  {
   "cell_type": "markdown",
   "metadata": {},
   "source": [
    "Let’s define a tracker function that will dynamically update the bubble plot:"
   ]
  },
  {
   "cell_type": "code",
   "execution_count": 3,
   "metadata": {},
   "outputs": [],
   "source": [
    "# Create and initialize the datapoints in random positions\n",
    "# and with random growth rates.\n",
    "num_points = 20"
   ]
  },
  {
   "cell_type": "code",
   "execution_count": 4,
   "metadata": {},
   "outputs": [
    {
     "ename": "ValueError",
     "evalue": "could not broadcast input array from shape (20,) into shape (20,1)",
     "output_type": "error",
     "traceback": [
      "\u001b[0;31m---------------------------------------------------------------------------\u001b[0m",
      "\u001b[0;31mValueError\u001b[0m                                Traceback (most recent call last)",
      "Cell \u001b[0;32mIn[4], line 3\u001b[0m\n\u001b[1;32m      1\u001b[0m datapoints \u001b[38;5;241m=\u001b[39m np\u001b[38;5;241m.\u001b[39mzeros(num_points, dtype\u001b[38;5;241m=\u001b[39m[(\u001b[38;5;124m'\u001b[39m\u001b[38;5;124mposition\u001b[39m\u001b[38;5;124m'\u001b[39m, \u001b[38;5;28mfloat\u001b[39m, \u001b[38;5;241m2\u001b[39m),(\u001b[38;5;124m'\u001b[39m\u001b[38;5;124msize\u001b[39m\u001b[38;5;124m'\u001b[39m, \u001b[38;5;28mfloat\u001b[39m, \u001b[38;5;241m1\u001b[39m), (\u001b[38;5;124m'\u001b[39m\u001b[38;5;124mgrowth\u001b[39m\u001b[38;5;124m'\u001b[39m, \u001b[38;5;28mfloat\u001b[39m, \u001b[38;5;241m1\u001b[39m), (\u001b[38;5;124m'\u001b[39m\u001b[38;5;124mcolor\u001b[39m\u001b[38;5;124m'\u001b[39m, \u001b[38;5;28mfloat\u001b[39m, \u001b[38;5;241m4\u001b[39m)])\n\u001b[1;32m      2\u001b[0m datapoints[\u001b[38;5;124m'\u001b[39m\u001b[38;5;124mposition\u001b[39m\u001b[38;5;124m'\u001b[39m] \u001b[38;5;241m=\u001b[39m np\u001b[38;5;241m.\u001b[39mrandom\u001b[38;5;241m.\u001b[39muniform(\u001b[38;5;241m0\u001b[39m, \u001b[38;5;241m1\u001b[39m, (num_points, \u001b[38;5;241m2\u001b[39m))\n\u001b[0;32m----> 3\u001b[0m \u001b[43mdatapoints\u001b[49m\u001b[43m[\u001b[49m\u001b[38;5;124;43m'\u001b[39;49m\u001b[38;5;124;43mgrowth\u001b[39;49m\u001b[38;5;124;43m'\u001b[39;49m\u001b[43m]\u001b[49m \u001b[38;5;241m=\u001b[39m np\u001b[38;5;241m.\u001b[39mrandom\u001b[38;5;241m.\u001b[39muniform(\u001b[38;5;241m40\u001b[39m, \u001b[38;5;241m150\u001b[39m, num_points)\n",
      "\u001b[0;31mValueError\u001b[0m: could not broadcast input array from shape (20,) into shape (20,1)"
     ]
    }
   ],
   "source": [
    "datapoints = np.zeros(num_points, dtype=[('position', float, 2),('size', float, 1), ('growth', float, 1), ('color', float, 4)])\n",
    "datapoints['position'] = np.random.uniform(0, 1, (num_points, 2))\n",
    "datapoints['growth'] = np.random.uniform(40, 150, num_points)\n"
   ]
  },
  {
   "cell_type": "code",
   "execution_count": null,
   "metadata": {},
   "outputs": [],
   "source": [
    "def tracker(cur_num):\n",
    "    # Get the current index\n",
    "    cur_index = cur_num % num_points\n",
    "    # Set the color of the datapoints\n",
    "    datapoints['color'][:, 3] = 1.0\n",
    "    # Update the size of the circles\n",
    "    datapoints['size'] += datapoints['growth']\n",
    "    # Update the position of the oldest datapoint\n",
    "    datapoints['position'][cur_index] = np.random.uniform(0, 1, 2)\n",
    "    datapoints['size'][cur_index] = 7\n",
    "    datapoints['color'][cur_index] = (0, 0, 0, 1)\n",
    "    datapoints['growth'][cur_index] = np.random.uniform(40, 150)"
   ]
  },
  {
   "cell_type": "code",
   "execution_count": null,
   "metadata": {},
   "outputs": [],
   "source": [
    "# Create a figure\n",
    "fig = plt.figure(figsize=(9, 7), facecolor=(0,0.9,0.9))\n",
    "ax = fig.add_axes([0, 0, 1, 1], frameon=False)\n",
    "ax.set_xlim(0, 1), ax.set_xticks([])\n",
    "ax.set_ylim(0, 1), ax.set_yticks([])"
   ]
  },
  {
   "cell_type": "code",
   "execution_count": null,
   "metadata": {},
   "outputs": [],
   "source": [
    "# Construct the scatter plot that will be updated every frame\n",
    "scatter_plot = ax.scatter(datapoints['position'][:, 0],datapoints['position'][:, 1],s=datapoints['size'], lw=0.7,edgecolors=datapoints['color'],facecolors='none')\n"
   ]
  },
  {
   "cell_type": "code",
   "execution_count": null,
   "metadata": {},
   "outputs": [],
   "source": [
    " # Update the parameters of the scatter plot\n",
    "scatter_plot.set_edgecolors(datapoints['color'])\n",
    "scatter_plot.set_sizes(datapoints['size'])\n",
    "scatter_plot.set_offsets(datapoints['position'])"
   ]
  },
  {
   "cell_type": "code",
   "execution_count": null,
   "metadata": {},
   "outputs": [],
   "source": [
    "# Start the animation using the ‘tracker’ function\n",
    "animation = FuncAnimation(fig, tracker, interval=10)\n",
    "plt.show()"
   ]
  }
 ],
 "metadata": {
  "kernelspec": {
   "display_name": "venv",
   "language": "python",
   "name": "python3"
  },
  "language_info": {
   "codemirror_mode": {
    "name": "ipython",
    "version": 3
   },
   "file_extension": ".py",
   "mimetype": "text/x-python",
   "name": "python",
   "nbconvert_exporter": "python",
   "pygments_lexer": "ipython3",
   "version": "3.9.0"
  }
 },
 "nbformat": 4,
 "nbformat_minor": 2
}
