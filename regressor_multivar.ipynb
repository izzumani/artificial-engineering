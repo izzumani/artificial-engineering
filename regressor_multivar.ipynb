{
 "cells": [
  {
   "cell_type": "code",
   "execution_count": 20,
   "metadata": {},
   "outputs": [],
   "source": [
    "import numpy as np\n",
    "from sklearn import linear_model\n",
    "import sklearn.metrics as sm\n",
    "from sklearn.preprocessing import PolynomialFeatures"
   ]
  },
  {
   "cell_type": "code",
   "execution_count": 21,
   "metadata": {},
   "outputs": [],
   "source": [
    "# Input file containing data\n",
    "input_file = './files/data_multivar_regr.txt'"
   ]
  },
  {
   "cell_type": "code",
   "execution_count": 22,
   "metadata": {},
   "outputs": [],
   "source": [
    "# Load the data from the input file\n",
    "data = np.loadtxt(input_file, delimiter=',')\n",
    "X, y = data[:, :-1], data[:, -1]"
   ]
  },
  {
   "cell_type": "code",
   "execution_count": 23,
   "metadata": {},
   "outputs": [
    {
     "data": {
      "text/plain": [
       "array([[ 2.06,  3.48,  7.21],\n",
       "       [ 6.37,  3.01,  7.27],\n",
       "       [ 1.18,  1.2 ,  5.42],\n",
       "       ...,\n",
       "       [ 3.61,  2.22,  5.77],\n",
       "       [ 1.38,  2.69, -0.33],\n",
       "       [ 5.35,  5.  ,  5.08]])"
      ]
     },
     "execution_count": 23,
     "metadata": {},
     "output_type": "execute_result"
    }
   ],
   "source": [
    "X"
   ]
  },
  {
   "cell_type": "code",
   "execution_count": 24,
   "metadata": {},
   "outputs": [
    {
     "data": {
      "text/plain": [
       "array([ 15.69,  15.34,   0.66,  38.37,   9.96,  23.4 ,  24.15,  24.89,\n",
       "        30.23,  41.2 ,  41.35,  29.32,  22.85,  21.27,  15.88,  14.21,\n",
       "        35.16,  39.08,  26.12,   3.9 ,  12.64,  33.7 ,   6.83,  33.47,\n",
       "        36.05,   4.67,  24.09,  34.73,  35.51,  27.5 ,  49.47,  27.05,\n",
       "        35.34,  31.82,  18.7 ,  -0.38,  41.75,  41.74,  32.11,  16.86,\n",
       "        14.41,  17.82,  20.97,  26.3 ,   9.05,  15.33,   6.86,  32.85,\n",
       "        19.93,  42.34,   3.61,  36.07,  26.98,  35.39,  34.44,  34.27,\n",
       "        31.25,  19.96,  33.83,  28.35,   7.12,  25.25,  26.46,  10.66,\n",
       "        20.06,  39.58,  19.96,  27.79,  23.84,  -3.79,  27.42,  -8.  ,\n",
       "        23.15,  39.55,  32.17,  11.3 ,  49.68,  40.24,  49.52,   8.87,\n",
       "        47.47,  14.47,  30.69,  31.27,  47.26,  32.2 ,   8.83,  47.21,\n",
       "        25.95,  27.29,  -7.36,  32.78,  42.04,  41.51,  16.42,   6.23,\n",
       "        35.7 ,  21.35,  13.48,  17.21,  14.97,  27.89,  22.08,  20.5 ,\n",
       "        34.06,  28.63,  31.23,  -1.2 ,  -1.84,  17.74,  28.4 ,  -1.3 ,\n",
       "        15.43,   8.22,  27.13,  31.82,  38.14,   8.11,  -3.88,  35.34,\n",
       "        16.87,  20.18,  31.74,  35.65,   4.38,  29.77,  16.55,  39.7 ,\n",
       "        16.35,  18.13,  17.28,  40.54,  13.  ,  28.05,   5.85,  56.1 ,\n",
       "        24.53,  29.7 ,  24.07,  12.01,  22.89,  36.06,  19.91,  16.17,\n",
       "         8.45,  31.85,  36.78,  37.03,  23.16,  35.15,  27.62,  30.44,\n",
       "        24.38,  -6.  ,  28.89,   8.72,  31.47,  31.32,   7.73,  20.38,\n",
       "        33.32,   8.75,  28.76,  18.65,  14.21,  21.32,  34.13,  36.65,\n",
       "        25.7 ,  20.82,  28.36,   4.38,  39.46,  22.35,   6.77,  15.31,\n",
       "        42.91,  33.89,  24.56,  30.53,  13.55,  26.49,  35.31,  36.88,\n",
       "        21.88,  31.59,  13.86,   1.82,  36.59,   9.36,  39.66,  30.97,\n",
       "        25.27,  27.69,   5.22,  13.41,  19.81,  34.97,  13.96,   9.07,\n",
       "        -1.5 ,  18.62,  20.36,  20.44,   3.78,  36.09,   3.59,  34.07,\n",
       "         8.41,  17.5 ,  29.15,  19.44,  29.56,  24.93,  26.47,  16.69,\n",
       "        37.84,  40.71,  35.67,   0.06,  14.12,   7.47,  10.02,  20.58,\n",
       "        30.62,  22.94,  18.5 ,  10.94,  25.15,  20.05,  38.34,  18.11,\n",
       "        40.5 ,  15.41,  25.72,  21.12,  36.06,  26.92,  12.87,  24.74,\n",
       "        48.31,  -7.26,  17.47,  12.77,  35.63,  33.1 ,   5.67,  17.89,\n",
       "        34.05,  16.43,  30.61,  40.42,  17.35,  -5.29,  29.95,  -4.19,\n",
       "         7.49,  29.23,  18.84,  13.04,  25.53, -12.3 ,  32.11,  33.47,\n",
       "        17.64,   8.35,   3.98,  30.36,  42.05,  28.31,  14.15,  17.51,\n",
       "        34.25,  20.32,  31.91,  37.48,  44.17,  38.69,  29.59,  23.42,\n",
       "        25.74,  16.73,  14.73,  22.48,  30.55,  14.58,  -8.26,  19.28,\n",
       "        22.49,  19.51,  24.1 ,  12.59,  15.88,  32.53,  30.45,  26.32,\n",
       "        24.83,  17.42,  24.14,  42.11,  28.93,  12.57,  22.21,  13.04,\n",
       "        27.5 ,  33.59,  38.83,  32.32,  40.18,  32.02,   8.22,  27.51,\n",
       "        42.71,  36.27,  31.41,  25.33,  31.71,  25.14,  -1.44,   6.52,\n",
       "        14.44,  29.31,  48.29,  20.86,  32.25,  18.91,   5.79,  33.07,\n",
       "        13.43,  34.34,  16.91,  -2.9 ,  37.85,  22.48,  15.51,  10.97,\n",
       "        38.38,   8.26,   9.73,  18.46,  44.86,  42.94,  20.47,  16.  ,\n",
       "        18.98,  28.  ,  21.33,  25.29,  34.6 ,   2.59,   5.59,  21.42,\n",
       "        16.18,  40.72,  18.8 ,   5.89,  13.67,  24.92,  22.54,  25.97,\n",
       "        20.16,  46.13,   8.37,   5.24,  38.24,  18.17,  20.41,  24.54,\n",
       "        19.39,  18.1 ,  43.29,  29.89,  30.17,  18.43,  17.08,  21.56,\n",
       "        20.59,  24.47,  20.62,  16.32,  22.88,  22.69,  33.  ,  31.96,\n",
       "        30.08,   7.69,  28.57,  37.97,   1.55,   4.2 ,   8.67,  19.39,\n",
       "        12.42,  34.47,  25.77,  15.49,  19.22,  34.51,   3.07,  10.58,\n",
       "        14.3 ,  22.52,  10.37,  35.22,  25.88,  37.97,  25.64,  30.61,\n",
       "        20.57,  19.81,  28.39,  23.12,  24.2 ,  15.71,   5.72,  21.64,\n",
       "        28.38,  24.51,   5.33,  38.15,  24.47,  15.22,  19.78,  31.06,\n",
       "        11.37,  12.82,  27.17,  11.15,  17.14,   4.62,  23.61,  35.29,\n",
       "        11.17,  44.49,  30.43,  16.23,  48.32,  25.66,  17.11,  24.53,\n",
       "        11.8 ,  46.64,  38.67,  32.02,  17.23,  32.57,   6.19,  27.27,\n",
       "        -6.64,  -1.81,   7.65,   3.09,  18.9 ,  20.98,  30.7 ,  24.1 ,\n",
       "        35.28,  33.85,  35.69,  20.86,  12.39,  45.58,  25.31,  25.8 ,\n",
       "        32.15,  28.05,  28.42,  20.54,   8.55,  15.25,  27.48,  44.93,\n",
       "        34.79,  24.04,  29.34,  22.8 ,  12.67,   6.69,  29.27,  56.05,\n",
       "        15.84,   6.54,  23.74,  43.79,  13.6 ,  35.51,  23.26,  18.09,\n",
       "        17.17,  17.56,  28.79,  17.4 ,   7.9 ,  13.83,  39.76,  25.19,\n",
       "        21.58,  -6.11,  42.98,  42.55,  30.44,  37.25,  40.53,  28.39,\n",
       "        23.96,  28.48,  40.22,   8.27,  33.37,  -1.39,  31.48,  27.74,\n",
       "        16.35,  -1.76,  34.35,  12.  ,   9.21,  47.98,  14.2 ,  -7.07,\n",
       "         9.21,  13.66,  27.29,  30.71,  13.71,  46.51,  22.96,  34.19,\n",
       "        11.66,   6.44,  25.58,   0.19,  21.36,  25.55,  12.87,   1.4 ,\n",
       "        36.41,  33.92,  29.44,  35.98,  23.05,  29.07,  20.55,  23.14,\n",
       "        18.75,  30.72,  16.21,  31.01,  21.81,  14.36,  25.45,  44.21,\n",
       "        13.03,   8.23,  20.68,  35.2 ,  20.15,  28.7 ,  26.99,  11.3 ,\n",
       "        26.42,  18.99,  12.63,  22.02,  29.66,  30.36,  18.87,  15.63,\n",
       "        12.53,   2.82,  38.22,  35.05,  25.77,   8.01,  47.31,  20.47,\n",
       "        -7.8 ,  23.21,  20.  ,  37.76,  10.68,  50.56,   9.23,  12.31,\n",
       "        10.84,   7.18,   7.94,  38.62,  32.24,  16.96,  11.78,  27.98,\n",
       "        19.51,  26.33,  30.4 ,  16.55,  16.1 ,  13.97,  11.99,  42.36,\n",
       "        27.7 ,  46.43,  21.47,  42.74,  10.53,   3.32,  32.24,  14.01,\n",
       "        14.34,   8.67,  27.28,  35.55,  28.68,  31.55,  34.86,  28.31,\n",
       "        29.02,  41.31,  14.97,  29.43,  24.66,  14.14,  19.03,  23.4 ,\n",
       "        31.36,   3.14,  20.62,   2.06,  12.81,   8.59,  28.99,  -1.21,\n",
       "        23.7 ,  20.7 ,   9.06,  43.34,  29.74,   2.02,  -8.77,  -0.99,\n",
       "         0.51,  33.91,  22.09,  26.33,   9.48,  23.51,  16.35,  16.65,\n",
       "        12.69,  38.45,  29.36,  25.08,  24.04,  24.15,   7.42,  23.  ,\n",
       "        -6.79,  19.21,  21.32,  17.27,  19.77,  36.88,   6.5 ,  20.65,\n",
       "        26.53,  23.05,  33.92,  -2.08,  28.3 ,  24.79,  16.94,   5.41,\n",
       "        20.84,  40.43,   8.06,  17.76,  38.66,  17.26,  17.45,  35.67,\n",
       "        46.62,  23.33,  30.41,  27.37,  18.44,  -0.85,  18.78,  22.75,\n",
       "        38.65,  10.02,  19.13,  31.67,  27.14,  36.44,  18.06,  15.95,\n",
       "         5.24,   6.33,  26.66,  25.13])"
      ]
     },
     "execution_count": 24,
     "metadata": {},
     "output_type": "execute_result"
    }
   ],
   "source": [
    "y"
   ]
  },
  {
   "cell_type": "code",
   "execution_count": 25,
   "metadata": {},
   "outputs": [],
   "source": [
    "# Split data into training and testing\n",
    "num_training = int(0.8 * len(X))\n",
    "num_test = len(X) - num_training\n",
    "# Training data\n",
    "X_train, y_train = X[:num_training], y[:num_training]\n",
    "# Test data\n",
    "X_test, y_test = X[num_training:], y[num_training:]"
   ]
  },
  {
   "cell_type": "code",
   "execution_count": 26,
   "metadata": {},
   "outputs": [],
   "source": [
    "# Create the linear regressor model\n",
    "linear_regressor = linear_model.LinearRegression()\n",
    "# Train the model using the training sets linear_regressor.\n",
    "linear_regressor.fit(X_train, y_train)\n",
    "# Predict the output for the test dataset\n",
    "# Predict the output\n",
    "y_test_pred = linear_regressor.predict(X_test)"
   ]
  },
  {
   "cell_type": "code",
   "execution_count": 27,
   "metadata": {},
   "outputs": [
    {
     "name": "stdout",
     "output_type": "stream",
     "text": [
      "Linear Regressor performance:\n",
      "Mean absolute error = 3.58\n",
      "Mean squared error = 20.31\n",
      "Median absolute error = 2.99\n",
      "Explained variance score = 0.86\n",
      "R2 score = 0.86\n"
     ]
    }
   ],
   "source": [
    "# Measure performance\n",
    "print(\"Linear Regressor performance:\")\n",
    "print(\"Mean absolute error =\", round(sm.mean_absolute_error(y_test, y_test_pred), 2))\n",
    "print(\"Mean squared error =\", round(sm.mean_squared_error(y_test, y_test_pred), 2))\n",
    "print(\"Median absolute error =\", round(sm.median_absolute_error(y_test,y_test_pred), 2))\n",
    "print(\"Explained variance score =\", round(sm.explained_variance_score(y_test, y_test_pred), 2))\n",
    "print(\"R2 score =\", round(sm.r2_score(y_test, y_test_pred), 2))"
   ]
  },
  {
   "cell_type": "code",
   "execution_count": 28,
   "metadata": {},
   "outputs": [],
   "source": [
    "\"\"\"\n",
    "Create a polynomial regressor of degree 10. Train the regressor on the training dataset.\n",
    "Let’s take a sample datapoint and see how to perform prediction. The first step is to\n",
    "transform it into a polynomial:\n",
    "\"\"\"\n",
    "# Polynomial regression\n",
    "polynomial = PolynomialFeatures(degree=10)\n",
    "X_train_transformed = polynomial.fit_transform(X_train)\n",
    "datapoint = [[7.75, 6.35, 5.56]]\n",
    "poly_datapoint = polynomial.fit_transform(datapoint)\n"
   ]
  },
  {
   "cell_type": "code",
   "execution_count": 29,
   "metadata": {},
   "outputs": [
    {
     "name": "stdout",
     "output_type": "stream",
     "text": [
      "\n",
      "Linear regression:\n",
      " [36.05286276]\n",
      "\n",
      "Polynomial regression:\n",
      " [41.46211642]\n"
     ]
    }
   ],
   "source": [
    "poly_linear_model = linear_model.LinearRegression()\n",
    "poly_linear_model.fit(X_train_transformed, y_train)\n",
    "print(\"\\nLinear regression:\\n\", linear_regressor.predict(datapoint))\n",
    "print(\"\\nPolynomial regression:\\n\", poly_linear_model.predict(poly_datapoint))\n"
   ]
  }
 ],
 "metadata": {
  "kernelspec": {
   "display_name": "venv",
   "language": "python",
   "name": "python3"
  },
  "language_info": {
   "codemirror_mode": {
    "name": "ipython",
    "version": 3
   },
   "file_extension": ".py",
   "mimetype": "text/x-python",
   "name": "python",
   "nbconvert_exporter": "python",
   "pygments_lexer": "ipython3",
   "version": "3.9.0"
  }
 },
 "nbformat": 4,
 "nbformat_minor": 2
}
